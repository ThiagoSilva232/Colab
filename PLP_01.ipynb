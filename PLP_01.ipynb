{
  "nbformat": 4,
  "nbformat_minor": 0,
  "metadata": {
    "colab": {
      "provenance": [],
      "authorship_tag": "ABX9TyNs8Heih82ZSh3wNCImb0KW",
      "include_colab_link": true
    },
    "kernelspec": {
      "name": "python3",
      "display_name": "Python 3"
    },
    "language_info": {
      "name": "python"
    }
  },
  "cells": [
    {
      "cell_type": "markdown",
      "metadata": {
        "id": "view-in-github",
        "colab_type": "text"
      },
      "source": [
        "<a href=\"https://colab.research.google.com/github/ThiagoSilva232/Colab/blob/main/PLP_01.ipynb\" target=\"_parent\"><img src=\"https://colab.research.google.com/assets/colab-badge.svg\" alt=\"Open In Colab\"/></a>"
      ]
    },
    {
      "cell_type": "code",
      "execution_count": null,
      "metadata": {
        "id": "8jzTz8IGMhje"
      },
      "outputs": [],
      "source": []
    },
    {
      "cell_type": "markdown",
      "source": [
        "Programa 01 - Objetivo: fazer a leitura de duas notas e calcular sua media:\n"
      ],
      "metadata": {
        "id": "zMc7ZVWfM7kh"
      }
    },
    {
      "cell_type": "code",
      "source": [
        "nota1 = float(input(\"Informe nota 1\"))\n",
        "nota2 = float(input(\"Informe nota 2\"))\n",
        "Med = (nota1 + nota2)/2\n",
        "print(\"A media final é:\")\n",
        "print(Med)"
      ],
      "metadata": {
        "colab": {
          "base_uri": "https://localhost:8080/"
        },
        "id": "hJNDpgS6NJbI",
        "outputId": "baba55ed-d77c-4aec-8292-a3d3e7095f66"
      },
      "execution_count": null,
      "outputs": [
        {
          "output_type": "stream",
          "name": "stdout",
          "text": [
            "Informe nota 110\n",
            "Informe nota 25\n",
            "A media final é:\n",
            "7.5\n"
          ]
        }
      ]
    },
    {
      "cell_type": "markdown",
      "source": [
        "Programa 02 - Objetivo Escrever o mesmo problema em modularização:"
      ],
      "metadata": {
        "id": "0N10azRnOUAI"
      }
    },
    {
      "cell_type": "code",
      "source": [
        "nota1 = float(input(\"Informe nota 1: \"))\n",
        "nota2 = float(input(\"Informe nota 2: \"))\n",
        "def calculo_media(nota1,nota2):\n",
        "  med = (nota1 + nota2)/2\n",
        "  return med\n",
        "print (calculo_media(nota1,nota2))\n"
      ],
      "metadata": {
        "colab": {
          "base_uri": "https://localhost:8080/"
        },
        "id": "oTT3N7vlOdh4",
        "outputId": "0468bf3e-e255-4bf0-84f3-c79e6bc6cce5"
      },
      "execution_count": null,
      "outputs": [
        {
          "output_type": "stream",
          "name": "stdout",
          "text": [
            "Informe nota 1: 6\n",
            "Informe nota 2: 7\n",
            "6.5\n"
          ]
        }
      ]
    },
    {
      "cell_type": "markdown",
      "source": [
        "Programa 03 - Faça um programa que solicite o preço de uma mercadoria e o percentual de desconta e depois exiba o valor do desconto e o preço a pagar."
      ],
      "metadata": {
        "id": "cruexQSSRyY-"
      }
    },
    {
      "cell_type": "code",
      "source": [
        "produto = float(input(\" Informe o preço do produto: R$\"))\n",
        "desconto = float(input(\" Informe o desconto: \"))\n",
        "\n",
        "descontovalor = produto * desconto / 100\n",
        "\n",
        "valorfinal = produto - descontovalor\n",
        "print(\"Um desconto de %5.2f %% em uma mercadoria de R$ %7.2f\" % (desconto, produto))\n",
        "print(\"vale R$ %7.2f.\" % descontovalor)\n",
        "print(\" valor a pagar é de R$ %7.2f\" % valorfinal)\n"
      ],
      "metadata": {
        "colab": {
          "base_uri": "https://localhost:8080/"
        },
        "id": "49snCCfSSC8l",
        "outputId": "8d07f9fc-f1bb-4826-f371-230a3a7c4ab5"
      },
      "execution_count": null,
      "outputs": [
        {
          "output_type": "stream",
          "name": "stdout",
          "text": [
            " Informe o preço do produto: R$200\n",
            " Informe o desconto: 10\n",
            "Um desconto de 10.00 % em uma mercadoria de R$  200.00\n",
            "vale R$   20.00.\n",
            " valor a pagar é de R$  180.00\n"
          ]
        }
      ]
    },
    {
      "cell_type": "markdown",
      "source": [
        "Programa 04 - Objetivo Escreva um programa para calcular a redução do tempo de vida de um fumante, Pergunte a quantidade de cigarros fumados por dia e quantos ajos ele ja fumou. Considere que um fumante perde 10 minutos de vida a cada cigarro, e calcule quantos dias de vida um fumante perderá. Exiba o total em dias."
      ],
      "metadata": {
        "id": "ofv6nul_W-68"
      }
    },
    {
      "cell_type": "code",
      "source": [
        "cigarros = int(input(\" Informe a quantidade de cigarros que você fumou por dia: \"))\n",
        "tempo = int(input(\" Informe quantos anos você ja fumou: \"))\n",
        "\n",
        "def reducao(cigarros,tempo):\n",
        "  tempo_total = ((cigarros *(tempo * 365)) * 10)/ 1440\n",
        "  return tempo_total\n",
        "\n",
        "print(\" Seu tempo de redução foi %1.1f dias\" % reducao(cigarros,tempo))"
      ],
      "metadata": {
        "colab": {
          "base_uri": "https://localhost:8080/"
        },
        "id": "2Q_woMpQXkLU",
        "outputId": "92835a80-8a1f-4a28-df36-a8153c13efe5"
      },
      "execution_count": null,
      "outputs": [
        {
          "output_type": "stream",
          "name": "stdout",
          "text": [
            " Informe a quantidade de cigarros que você fumou por dia: 10\n",
            " Informe quantos anos você ja fumou: 5\n",
            " Seu tempo de redução foi 126.7 dias\n"
          ]
        }
      ]
    },
    {
      "cell_type": "markdown",
      "source": [
        "Programa 5 - Objetivo: Escreva um programa para controlar uma pequena caixa registradora. Você deve solicitar ao usuário o código do produto e a quantidade comprada. Utilize a tabela de códigos a seguir para obter"
      ],
      "metadata": {
        "id": "-MiI53i7CFN6"
      }
    },
    {
      "cell_type": "code",
      "source": [
        "produtos = {\n",
        "    \"001\": {\"nome\": \"Produto 1\", \"preco\": 10.0},\n",
        "    \"002\": {\"nome\": \"Produto 2\", \"preco\": 15.0},\n",
        "    \"003\": {\"nome\": \"Produto 3\", \"preco\": 20.0},\n",
        "\n",
        "}\n",
        "\n",
        "caixa_registradora = {}\n",
        "\n",
        "while True:\n",
        "    codigo = input(\"Digite o código do produto (ou 'q' para sair): \").strip().upper()\n",
        "\n",
        "    if codigo == 'Q':\n",
        "        break\n",
        "\n",
        "    if codigo in produtos:\n",
        "        quantidade = int(input(f\"Digite a quantidade de {produtos[codigo]['nome']} comprada: \"))\n",
        "\n",
        "        if codigo in caixa_registradora:\n",
        "            caixa_registradora[codigo][\"quantidade\"] += quantidade\n",
        "        else:\n",
        "            caixa_registradora[codigo] = {\n",
        "                \"nome\": produtos[codigo][\"nome\"],\n",
        "                \"preco\": produtos[codigo][\"preco\"],\n",
        "                \"quantidade\": quantidade,\n",
        "            }\n",
        "    else:\n",
        "        print(\"Código de produto inválido. Tente novamente.\")\n",
        "\n",
        "total = 0.0\n",
        "print(\"\\nRecibo de Compra:\")\n",
        "print(\"==============================\")\n",
        "for codigo, item in caixa_registradora.items():\n",
        "    subtotal = item[\"preco\"] * item[\"quantidade\"]\n",
        "    print(f\"{item['nome']} (Código: {codigo}): {item['quantidade']} x {item['preco']} = R${subtotal:.2f}\")\n",
        "    total += subtotal\n",
        "\n",
        "print(\"==============================\")\n",
        "print(f\"Total: R${total:.2f}\")\n"
      ],
      "metadata": {
        "id": "Wl3W6z0sDXMy"
      },
      "execution_count": null,
      "outputs": []
    },
    {
      "cell_type": "markdown",
      "source": [
        "Mesmo Programa em JAVA."
      ],
      "metadata": {
        "id": "NeTqDX2kEfFp"
      }
    },
    {
      "cell_type": "code",
      "source": [
        "import java.util.HashMap;\n",
        "import java.util.Map;\n",
        "import java.util.Scanner;\n",
        "\n",
        "public class CaixaRegistradora {\n",
        "\n",
        "    public static void main(String[] args) {\n",
        "        // Mapa de produtos e seus preços correspondentes\n",
        "        Map<String, Produto> produtos = new HashMap<>();\n",
        "        produtos.put(\"001\", new Produto(\"Produto 1\", 10.0));\n",
        "        produtos.put(\"002\", new Produto(\"Produto 2\", 15.0));\n",
        "        produtos.put(\"003\", new Produto(\"Produto 3\", 20.0));\n",
        "        // Adicione mais produtos conforme necessário\n",
        "\n",
        "        // Inicialize a caixa registradora\n",
        "        Map<String, ItemCompra> caixaRegistradora = new HashMap<>();\n",
        "        Scanner scanner = new Scanner(System.in);\n",
        "\n",
        "        while (true) {\n",
        "            System.out.print(\"Digite o código do produto (ou 'q' para sair): \");\n",
        "            String codigo = scanner.next().toUpperCase();\n",
        "\n",
        "            if (codigo.equals(\"Q\")) {\n",
        "                break;\n",
        "            }\n",
        "\n",
        "            if (produtos.containsKey(codigo)) {\n",
        "                System.out.print(\"Digite a quantidade comprada: \");\n",
        "                int quantidade = scanner.nextInt();\n",
        "\n",
        "                // Verifique se o código já está na caixa registradora\n",
        "                if (caixaRegistradora.containsKey(codigo)) {\n",
        "                    ItemCompra itemExistente = caixaRegistradora.get(codigo);\n",
        "                    itemExistente.setQuantidade(itemExistente.getQuantidade() + quantidade);\n",
        "                } else {\n",
        "                    Produto produto = produtos.get(codigo);\n",
        "                    caixaRegistradora.put(codigo, new ItemCompra(produto.getNome(), produto.getPreco(), quantidade));\n",
        "                }\n",
        "            } else {\n",
        "                System.out.println(\"Código de produto inválido. Tente novamente.\");\n",
        "            }\n",
        "        }\n",
        "\n",
        "        // Imprima o recibo\n",
        "        double total = 0.0;\n",
        "        System.out.println(\"\\nRecibo de Compra:\");\n",
        "        System.out.println(\"==============================\");\n",
        "        for (Map.Entry<String, ItemCompra> entry : caixaRegistradora.entrySet()) {\n",
        "            ItemCompra item = entry.getValue();\n",
        "            double subtotal = item.getPreco() * item.getQuantidade();\n",
        "            System.out.printf(\"%s (Código: %s): %d x %.2f = R$%.2f%n\", item.getNome(), entry.getKey(), item.getQuantidade(), item.getPreco(), subtotal);\n",
        "            total += subtotal;\n",
        "        }\n",
        "        System.out.println(\"==============================\");\n",
        "        System.out.printf(\"Total: R$%.2f%n\", total);\n",
        "    }\n",
        "}\n",
        "\n",
        "class Produto {\n",
        "    private String nome;\n",
        "    private double preco;\n",
        "\n",
        "    public Produto(String nome, double preco) {\n",
        "        this.nome = nome;\n",
        "        this.preco = preco;\n",
        "    }\n",
        "\n",
        "    public String getNome() {\n",
        "        return nome;\n",
        "    }\n",
        "\n",
        "    public double getPreco() {\n",
        "        return preco;\n",
        "    }\n",
        "}\n",
        "\n",
        "class ItemCompra {\n",
        "    private String nome;\n",
        "    private double preco;\n",
        "    private int quantidade;\n",
        "\n",
        "    public ItemCompra(String nome, double preco, int quantidade) {\n",
        "        this.nome = nome;\n",
        "        this.preco = preco;\n",
        "        this.quantidade = quantidade;\n",
        "    }\n",
        "\n",
        "    public String getNome() {\n",
        "        return nome;\n",
        "    }\n",
        "\n",
        "    public double getPreco() {\n",
        "        return preco;\n",
        "    }\n",
        "\n",
        "    public int getQuantidade() {\n",
        "        return quantidade;\n",
        "    }\n",
        "\n",
        "    public void setQuantidade(int quantidade) {\n",
        "        this.quantidade = quantidade;\n",
        "    }\n",
        "}"
      ],
      "metadata": {
        "id": "s6S9JAPNE0gQ"
      },
      "execution_count": null,
      "outputs": []
    },
    {
      "cell_type": "markdown",
      "source": [
        "Mesmo Programa em GO Lang."
      ],
      "metadata": {
        "id": "56jnwl2OE_-I"
      }
    },
    {
      "cell_type": "code",
      "source": [
        "package main\n",
        "\n",
        "import (\n",
        "    \"fmt\"\n",
        ")\n",
        "\n",
        "// Struct para representar um produto\n",
        "type Produto struct {\n",
        "    Nome  string\n",
        "    Preco float64\n",
        "}\n",
        "\n",
        "// Struct para representar um item de compra\n",
        "type ItemCompra struct {\n",
        "    Nome       string\n",
        "    PrecoUnit  float64\n",
        "    Quantidade int\n",
        "}\n",
        "\n",
        "func main() {\n",
        "    // Mapa de produtos e seus preços correspondentes\n",
        "    produtos := map[string]Produto{\n",
        "        \"001\": {\"Produto 1\", 10.0},\n",
        "        \"002\": {\"Produto 2\", 15.0},\n",
        "        \"003\": {\"Produto 3\", 20.0},\n",
        "        // Adicione mais produtos conforme necessário\n",
        "    }\n",
        "\n",
        "    // Inicialize a caixa registradora\n",
        "    caixaRegistradora := make(map[string]ItemCompra)\n",
        "\n",
        "    for {\n",
        "        var codigo string\n",
        "        fmt.Print(\"Digite o código do produto (ou 'q' para sair): \")\n",
        "        fmt.Scan(&codigo)\n",
        "\n",
        "        if codigo == \"q\" {\n",
        "            break\n",
        "        }\n",
        "\n",
        "        produto, existe := produtos[codigo]\n",
        "        if !existe {\n",
        "            fmt.Println(\"Código de produto inválido. Tente novamente.\")\n",
        "            continue\n",
        "        }\n",
        "\n",
        "        var quantidade int\n",
        "        fmt.Print(\"Digite a quantidade comprada: \")\n",
        "        fmt.Scan(&quantidade)\n",
        "\n",
        "        item, existe := caixaRegistradora[codigo]\n",
        "        if existe {\n",
        "            item.Quantidade += quantidade\n",
        "            caixaRegistradora[codigo] = item\n",
        "        } else {\n",
        "            caixaRegistradora[codigo] = ItemCompra{\n",
        "                Nome:       produto.Nome,\n",
        "                PrecoUnit:  produto.Preco,\n",
        "                Quantidade: quantidade,\n",
        "            }\n",
        "        }\n",
        "    }\n",
        "\n",
        "    // Imprima o recibo\n",
        "    total := 0.0\n",
        "    fmt.Println(\"\\nRecibo de Compra:\")\n",
        "    fmt.Println(\"==============================\")\n",
        "    for codigo, item := range caixaRegistradora {\n",
        "        subtotal := item.PrecoUnit * float64(item.Quantidade)\n",
        "        fmt.Printf(\"%s (Código: %s): %d x %.2f = R$%.2f\\n\", item.Nome, codigo, item.Quantidade, item.PrecoUnit, subtotal)\n",
        "        total += subtotal\n",
        "    }\n",
        "    fmt.Println(\"==============================\")\n",
        "    fmt.Printf(\"Total: R$%.2f\\n\", total)\n",
        "}"
      ],
      "metadata": {
        "id": "weWDY04uFJdE"
      },
      "execution_count": null,
      "outputs": []
    },
    {
      "cell_type": "markdown",
      "source": [
        "Programa 6 - Objetivo: Escreva um programa que pergunte o salário do funcionário e calcule o valor do aumento. Para salários superiores a R$ 1.250,00, calcule um aumento de 10%. Para os inferiores ou iguais, de 15%\n"
      ],
      "metadata": {
        "id": "h_cjDjiPFYHI"
      }
    },
    {
      "cell_type": "code",
      "source": [
        "# Solicita o salário do funcionário\n",
        "salario = float(input(\"Digite o salário do funcionário: \"))\n",
        "\n",
        "# Calcula o aumento com base nas regras\n",
        "if salario > 1250.00:\n",
        "    aumento = salario * 0.10\n",
        "else:\n",
        "    aumento = salario * 0.15\n",
        "\n",
        "novo_salario = salario + aumento\n",
        "\n",
        "print(f\"O valor do aumento é de R${aumento:.2f}\")\n",
        "print(f\"O novo salário é de R${novo_salario:.2f}\")"
      ],
      "metadata": {
        "id": "g94JJ9RcHCM_"
      },
      "execution_count": null,
      "outputs": []
    },
    {
      "cell_type": "markdown",
      "source": [
        "Programa 7 - Objetivo: Le um vetor de 8 posições e , em seguida lê os dois valores x e y quaisquer correspondentes a duas posições no vetor . o programa então imprime a soma dos valores encontrados nas respectivas posições x e y.\n",
        "\n"
      ],
      "metadata": {
        "id": "gkoDyL8hHLnS"
      }
    },
    {
      "cell_type": "code",
      "source": [
        "vetor = []\n",
        "for i in range(8):\n",
        "    valor = int(input(f\"Digite o valor da posição {i}: \"))\n",
        "    vetor.append(valor)\n",
        "\n",
        "x = int(input(\"Digite o valor de x (entre 0 e 7): \"))\n",
        "y = int(input(\"Digite o valor de y (entre 0 e 7): \"))\n",
        "\n",
        "if 0 <= x < 8 and 0 <= y < 8:\n",
        "    soma = vetor[x] + vetor[y]\n",
        "    print(f\"A soma dos valores nas posições {x} e {y} é: {soma}\")\n",
        "else:\n",
        "    print(\"Valores de x e/ou y estão fora do intervalo válido (0 a 7).\")\n"
      ],
      "metadata": {
        "id": "geUIyuRSHkbe"
      },
      "execution_count": null,
      "outputs": []
    },
    {
      "cell_type": "markdown",
      "source": [
        "Programa 8 - Objetivo: Faça um progrma e phyton que receba do usuario um vetor com 10 posições. em seguida devera ser impresso o maior e o menor do vetor"
      ],
      "metadata": {
        "id": "4VUhcqR7IOQA"
      }
    },
    {
      "cell_type": "code",
      "source": [
        "maior = float('-inf')\n",
        "menor = float('inf')\n",
        "\n",
        "vetor = []\n",
        "for i in range(10):\n",
        "    numero = float(input(f\"Digite o número da {i+1}° posição: \"))\n",
        "    vetor.append(numero)\n",
        "    if numero > maior:\n",
        "        maior = numero\n",
        "    if numero < menor:\n",
        "        menor = numero\n",
        "\n",
        "print(f\"O maior valor digitado foi: {maior}\")\n",
        "print(f\"O menor valor digitado foi: {menor}\")"
      ],
      "metadata": {
        "id": "XK9EfobMJWWo"
      },
      "execution_count": null,
      "outputs": []
    },
    {
      "cell_type": "markdown",
      "source": [
        "Programa 9 - Objetivo: Crie um dicionário que é uma agenda e coloque nele os seguintes dados: chave (cpf), nome, idade, telefone. O programa deve ler um número indeterminado de dados, criar a agenda e imprimir todos os itens do dicionário no formato chave: nome, idade, fone."
      ],
      "metadata": {
        "id": "QUnOX4TzJ7d4"
      }
    },
    {
      "cell_type": "code",
      "source": [
        "def adicionarAgenda(agenda):\n",
        "        # Lê os dados da agenda\n",
        "        cpf = input(\"Digite o CPF: \")\n",
        "        nome = input(\"Digite o nome: \")\n",
        "        idade = input(\"Digite a idade: \")\n",
        "        telefone = input(\"Digite o telefone: \")\n",
        "\n",
        "        # Adiciona os dados ao dicionário\n",
        "        agenda[cpf] = {\n",
        "            \"nome\": nome,\n",
        "            \"idade\": idade,\n",
        "            \"telefone\": telefone,\n",
        "        }\n",
        "\n",
        "def imprimirDicionario(agenda):\n",
        "     # Imprime os itens do dicionário\n",
        "    for cpf, contato in agenda.items():\n",
        "        print(cpf, contato[\"nome\"], contato[\"idade\"], contato[\"telefone\"])\n",
        "\n",
        "def main():\n",
        "    # Cria um dicionário vazio\n",
        "    agenda = {}\n",
        "\n",
        "    while True:\n",
        "        adicionarAgenda(agenda)\n",
        "        # Pergunta se o usuário deseja continuar\n",
        "        continuar = input(\"Deseja continuar? (s/n): \")\n",
        "        if continuar == \"n\":\n",
        "            break\n",
        "\n",
        "    imprimirDicionario(agenda)\n",
        "\n",
        "\n",
        "if __name__ == \"__main__\":\n",
        "    main()"
      ],
      "metadata": {
        "id": "BWmtejMDJ_MQ"
      },
      "execution_count": null,
      "outputs": []
    },
    {
      "cell_type": "markdown",
      "source": [
        "Programa 10 - Objetivo: Construa um dicionário com nome, salariobruto, salario liquido, para número indeterminado de pessoas, nele será calculado o desconto de 8% do INSS e de 10% para IRPF. Preciso que o programa seja escrito na Linguagem Python de forma Otimizada."
      ],
      "metadata": {
        "id": "EYPHMDIQKDC6"
      }
    },
    {
      "cell_type": "code",
      "source": [
        "def main():\n",
        "    # Cria um dicionário vazio\n",
        "    folha_de_pagamento = {}\n",
        "\n",
        "    # Lê os dados da folha de pagamento\n",
        "    while True:\n",
        "        # Lê o nome e o salário bruto\n",
        "        nome = input(\"Digite o nome: \")\n",
        "        salario_bruto = float(input(\"Digite o salário bruto: \"))\n",
        "\n",
        "        # Calcula o desconto do INSS\n",
        "        desconto_inss = salario_bruto * 0.08\n",
        "\n",
        "        # Calcula o desconto do IRPF\n",
        "        desconto_irpf = 0\n",
        "        if salario_bruto > 1903.98:\n",
        "            desconto_irpf = salario_bruto * 0.10\n",
        "\n",
        "        # Calcula o salário líquido\n",
        "        salario_liquido = salario_bruto - desconto_inss - desconto_irpf\n",
        "\n",
        "        # Adiciona os dados ao dicionário\n",
        "        folha_de_pagamento[nome] = {\n",
        "            \"salario_bruto\": salario_bruto,\n",
        "            \"desconto_inss\": desconto_inss,\n",
        "            \"desconto_irpf\": desconto_irpf,\n",
        "            \"salario_liquido\": salario_liquido,\n",
        "        }\n",
        "\n",
        "        # Pergunta se o usuário deseja continuar\n",
        "        continuar = input(\"Deseja continuar? (s/n): \")\n",
        "        if continuar != \"s\":\n",
        "            break\n",
        "\n",
        "    # Imprime os itens do dicionário\n",
        "    for nome, dados in folha_de_pagamento.items():\n",
        "        print(nome, dados[\"salario_bruto\"], dados[\"desconto_inss\"], dados[\"desconto_irpf\"], dados[\"salario_liquido\"])\n",
        "\n",
        "\n",
        "if __name__ == \"__main__\":\n",
        "    main()"
      ],
      "metadata": {
        "id": "YjMlI62pKOHo"
      },
      "execution_count": null,
      "outputs": []
    }
  ]
}