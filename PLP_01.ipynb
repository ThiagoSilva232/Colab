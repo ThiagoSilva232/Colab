{
  "nbformat": 4,
  "nbformat_minor": 0,
  "metadata": {
    "colab": {
      "provenance": [],
      "authorship_tag": "ABX9TyPqgBN5NlWJMWgLVP3BU+6F",
      "include_colab_link": true
    },
    "kernelspec": {
      "name": "python3",
      "display_name": "Python 3"
    },
    "language_info": {
      "name": "python"
    }
  },
  "cells": [
    {
      "cell_type": "markdown",
      "metadata": {
        "id": "view-in-github",
        "colab_type": "text"
      },
      "source": [
        "<a href=\"https://colab.research.google.com/github/ThiagoSilva232/Colab/blob/main/PLP_01.ipynb\" target=\"_parent\"><img src=\"https://colab.research.google.com/assets/colab-badge.svg\" alt=\"Open In Colab\"/></a>"
      ]
    },
    {
      "cell_type": "code",
      "execution_count": null,
      "metadata": {
        "id": "8jzTz8IGMhje"
      },
      "outputs": [],
      "source": []
    },
    {
      "cell_type": "markdown",
      "source": [
        "Programa 01 - Objetivo: fazer a leitura de duas notas e calcular sua media:\n"
      ],
      "metadata": {
        "id": "zMc7ZVWfM7kh"
      }
    },
    {
      "cell_type": "code",
      "source": [
        "nota1 = float(input(\"Informe nota 1\"))\n",
        "nota2 = float(input(\"Informe nota 2\"))\n",
        "Med = (nota1 + nota2)/2\n",
        "print(\"A media final é:\")\n",
        "print(Med)"
      ],
      "metadata": {
        "colab": {
          "base_uri": "https://localhost:8080/"
        },
        "id": "hJNDpgS6NJbI",
        "outputId": "baba55ed-d77c-4aec-8292-a3d3e7095f66"
      },
      "execution_count": null,
      "outputs": [
        {
          "output_type": "stream",
          "name": "stdout",
          "text": [
            "Informe nota 110\n",
            "Informe nota 25\n",
            "A media final é:\n",
            "7.5\n"
          ]
        }
      ]
    },
    {
      "cell_type": "markdown",
      "source": [
        "Programa 02 - Objetivo Escrever o mesmo problema em modularização:"
      ],
      "metadata": {
        "id": "0N10azRnOUAI"
      }
    },
    {
      "cell_type": "code",
      "source": [
        "nota1 = float(input(\"Informe nota 1: \"))\n",
        "nota2 = float(input(\"Informe nota 2: \"))\n",
        "def calculo_media(nota1,nota2):\n",
        "  med = (nota1 + nota2)/2\n",
        "  return med\n",
        "print (calculo_media(nota1,nota2))\n"
      ],
      "metadata": {
        "colab": {
          "base_uri": "https://localhost:8080/"
        },
        "id": "oTT3N7vlOdh4",
        "outputId": "0468bf3e-e255-4bf0-84f3-c79e6bc6cce5"
      },
      "execution_count": null,
      "outputs": [
        {
          "output_type": "stream",
          "name": "stdout",
          "text": [
            "Informe nota 1: 6\n",
            "Informe nota 2: 7\n",
            "6.5\n"
          ]
        }
      ]
    },
    {
      "cell_type": "markdown",
      "source": [
        "Programa 03 - Faça um programa que solicite o preço de uma mercadoria e o percentual de desconta e depois exiba o valor do desconto e o preço a pagar."
      ],
      "metadata": {
        "id": "cruexQSSRyY-"
      }
    },
    {
      "cell_type": "code",
      "source": [
        "produto = float(input(\" Informe o preço do produto: R$\"))\n",
        "desconto = float(input(\" Informe o desconto: \"))\n",
        "\n",
        "descontovalor = produto * desconto / 100\n",
        "\n",
        "valorfinal = produto - descontovalor\n",
        "print(\"Um desconto de %5.2f %% em uma mercadoria de R$ %7.2f\" % (desconto, produto))\n",
        "print(\"vale R$ %7.2f.\" % descontovalor)\n",
        "print(\" valor a pagar é de R$ %7.2f\" % valorfinal)\n"
      ],
      "metadata": {
        "colab": {
          "base_uri": "https://localhost:8080/"
        },
        "id": "49snCCfSSC8l",
        "outputId": "8d07f9fc-f1bb-4826-f371-230a3a7c4ab5"
      },
      "execution_count": 8,
      "outputs": [
        {
          "output_type": "stream",
          "name": "stdout",
          "text": [
            " Informe o preço do produto: R$200\n",
            " Informe o desconto: 10\n",
            "Um desconto de 10.00 % em uma mercadoria de R$  200.00\n",
            "vale R$   20.00.\n",
            " valor a pagar é de R$  180.00\n"
          ]
        }
      ]
    },
    {
      "cell_type": "markdown",
      "source": [
        "Programa 04 - Objetivo Escreva um programa para calcular a redução do tempo de vida de um fumante, Pergunte a quantidade de cigarros fumados por dia e quantos ajos ele ja fumou. Considere que um fumante perde 10 minutos de vida a cada cigarro, e calcule quantos dias de vida um fumante perderá. Exiba o total em dias."
      ],
      "metadata": {
        "id": "ofv6nul_W-68"
      }
    },
    {
      "cell_type": "code",
      "source": [
        "cigarros = int(input(\" Informe a quantidade de cigarros que você fumou por dia: \"))\n",
        "tempo = int(input(\" Informe quantos anos você ja fumou: \"))\n",
        "\n",
        "def reducao(cigarros,tempo):\n",
        "  tempo_total = ((cigarros *(tempo * 365)) * 10)/ 1440\n",
        "  return tempo_total\n",
        "\n",
        "print(\" Seu tempo de redução foi %1.1f dias\" % reducao(cigarros,tempo))"
      ],
      "metadata": {
        "colab": {
          "base_uri": "https://localhost:8080/"
        },
        "id": "2Q_woMpQXkLU",
        "outputId": "92835a80-8a1f-4a28-df36-a8153c13efe5"
      },
      "execution_count": 10,
      "outputs": [
        {
          "output_type": "stream",
          "name": "stdout",
          "text": [
            " Informe a quantidade de cigarros que você fumou por dia: 10\n",
            " Informe quantos anos você ja fumou: 5\n",
            " Seu tempo de redução foi 126.7 dias\n"
          ]
        }
      ]
    }
  ]
}